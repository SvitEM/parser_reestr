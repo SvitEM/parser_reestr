{
 "cells": [
  {
   "cell_type": "code",
   "execution_count": 1,
   "metadata": {},
   "outputs": [],
   "source": [
    "import aiohttp\n",
    "import asyncio"
   ]
  },
  {
   "cell_type": "code",
   "execution_count": 4,
   "metadata": {},
   "outputs": [],
   "source": [
    "loop = asyncio.get_event_loop()"
   ]
  },
  {
   "cell_type": "code",
   "execution_count": 10,
   "metadata": {},
   "outputs": [],
   "source": [
    "headers = {\n",
    "            \"accept\": \"text/html,application/xhtml+xml,application/xml;q=0.9,image/avif,image/webp,image/apng,*/*;q=0.8,application/signed-exchange;v=b3;q=0.9\",\n",
    "            \"accept-language\": \"ru\",\n",
    "            \"cache-control\": \"no-cache\",\n",
    "            \"pragma\": \"no-cache\",\n",
    "            \"sec-fetch-dest\": \"document\",\n",
    "            \"sec-fetch-mode\": \"navigate\",\n",
    "            \"sec-fetch-site\": \"same-origin\",\n",
    "            \"sec-fetch-user\": \"?1\",\n",
    "            \"upgrade-insecure-requests\": \"1\",\n",
    "            \"user-agent\": \"Mozilla/5.0 (X11; Linux x86_64) AppleWebKit/537.36 (KHTML, like Gecko) Chrome/86.0.4240.111 Safari/537.36\",\n",
    "        }"
   ]
  },
  {
   "cell_type": "code",
   "execution_count": 20,
   "metadata": {},
   "outputs": [
    {
     "name": "stdout",
     "output_type": "stream",
     "text": [
      "<!DOCTYPE html>\n",
      "<html>\n",
      "\n",
      "<head>\n",
      "  <base href=\"/\">\n",
      "  <meta charset=\"utf-8\">\n",
      "  <meta http-equiv=\"X-UA-Compatible\"\n",
      "        content=\"IE=edge\">\n",
      "  <meta name=\"description\"\n",
      "        content=\"\">\n",
      "  <meta name=\"author\"\n",
      "        content=\"\">\n",
      "  <!--<meta name=\"viewport\"\n",
      "          content=\"width=980, maximum-scale=1.0\">-->\n",
      "  <meta name=\"viewport\"\n",
      "        content=\"width=device-width, initial-scale=1\">\n",
      "  <title>Федресурс</title>\n",
      "  <link rel=\"shortcut icon\"\n",
      "        href=\"/assets/img/favicon.ico\"\n",
      "        type=\"image/x-icon\">\n",
      "  <!--[if lt IE 9]>\n",
      "        <script src=\"https://cdnjs.cloudflare.com/ajax/libs/html5shiv/3.7.3/html5shiv.min.js\"></script>\n",
      "        <script src=\"https://cdnjs.cloudflare.com/ajax/libs/respond.js/1.4.2/respond.min.js\"></script>\n",
      "    <![endif]-->\n",
      "<link rel=\"stylesheet\" href=\"styles.bceab2f4cda30bf70399.css\"></head>\n",
      "\n",
      "<body>\n",
      "  <fedresurs-app></fedresurs-app>\n",
      "  <script src=\"assets/js/blitz.js\"></script>\n",
      "  <script src=\"https://api-maps.yandex.ru/2.1/?apikey=87620f7a-a28f-4bf7-9df5-89443f8731aa&lang=ru_RU\"\n",
      "          type=\"text/javascript\"></script>\n",
      "<script src=\"runtime.829ed4ffdf85513790fa.js\" defer></script><script src=\"polyfills-es5.bd1be91c9dd66d1bb9f3.js\" nomodule defer></script><script src=\"polyfills.985cbfd3477440f5ea8d.js\" defer></script><script src=\"scripts.b0fe929baca35ac08ba8.js\" defer></script><script src=\"main.d99710be193c0988663e.js\" defer></script></body>\n",
      "\n",
      "</html>\n",
      "{'pageData': [{'mainInfo': 'Залогодатель: ООО \"ЗКПД ТДСК\", ОГРН: 1027000854066, ИНН: 7017026930, Адрес: 634021, ОБЛАСТЬ ТОМСКАЯ, ГОРОД ТОМСК, УЛИЦА ЕЛИЗАРОВЫХ, 79, 1, Email: kpdtdsk@gmail.com\\r\\nЗалогодержатель: ПАО БАНК \"ФК ОТКРЫТИЕ\", ОГРН: 1027739019208, ИНН: 7706092528, Адрес: 115114, ГОРОД МОСКВА, УЛИЦА ЛЕТНИКОВСКАЯ, ДОМ 2, СТРОЕНИЕ 4\\r\\n', 'number': '04641027', 'guid': '4BF46CB07EE7474AB1D9A1510AF985B8', 'publishDate': '2019-12-31T09:57:43.94', 'isAnnuled': False, 'type': 'Возникновение права залога', 'bodyHighlights': ['Номер сообщения: <res>04641027</res> (4641027)\\r\\nПубликатор: ООО \"ЗКПД ТДСК\", ОГРН: 1027000854066, ИНН: 7017026930\\r\\nЗалогодатель: ООО \"ЗКПД ТДСК\", ОГРН: 1027000854066'], 'documentsWithHits': []}], 'found': 1}\n",
      "CPU times: user 34.1 ms, sys: 0 ns, total: 34.1 ms\n",
      "Wall time: 1.08 s\n"
     ]
    }
   ],
   "source": [
    "%%time\n",
    "async def fedresurs():\n",
    "    async with aiohttp.ClientSession(headers=headers) as session:\n",
    "        async with session.get(\"https://fedresurs.ru/\") as resp:\n",
    "            print(await resp.text())\n",
    "            \n",
    "            session.headers['referer'] = 'https://fedresurs.ru/search/encumbrances?searchString=04641027&group=All&additionalSearchFnp=true'\n",
    "            async with session.get('https://fedresurs.ru/backend/encumbrances?startIndex=0&pageSize=15&additionalSearchFnp=true&searchString=04641027&group=null&publishDateStart=null&publishDateEnd=null') as resp:\n",
    "                print(await resp.json())\n",
    "\n",
    "loop.run_until_complete(fedresurs())"
   ]
  },
  {
   "cell_type": "code",
   "execution_count": 25,
   "metadata": {},
   "outputs": [],
   "source": [
    "import requests"
   ]
  },
  {
   "cell_type": "code",
   "execution_count": 26,
   "metadata": {},
   "outputs": [
    {
     "name": "stdout",
     "output_type": "stream",
     "text": [
      "{'pageData': [{'mainInfo': 'Залогодатель: ООО \"ЗКПД ТДСК\", ОГРН: 1027000854066, ИНН: 7017026930, Адрес: 634021, ОБЛАСТЬ ТОМСКАЯ, ГОРОД ТОМСК, УЛИЦА ЕЛИЗАРОВЫХ, 79, 1, Email: kpdtdsk@gmail.com\\r\\nЗалогодержатель: ПАО БАНК \"ФК ОТКРЫТИЕ\", ОГРН: 1027739019208, ИНН: 7706092528, Адрес: 115114, ГОРОД МОСКВА, УЛИЦА ЛЕТНИКОВСКАЯ, ДОМ 2, СТРОЕНИЕ 4\\r\\n', 'number': '04641027', 'guid': '4BF46CB07EE7474AB1D9A1510AF985B8', 'publishDate': '2019-12-31T09:57:43.94', 'isAnnuled': False, 'type': 'Возникновение права залога', 'bodyHighlights': ['Номер сообщения: <res>04641027</res> (4641027)\\r\\nПубликатор: ООО \"ЗКПД ТДСК\", ОГРН: 1027000854066, ИНН: 7017026930\\r\\nЗалогодатель: ООО \"ЗКПД ТДСК\", ОГРН: 1027000854066'], 'documentsWithHits': []}], 'found': 1}\n",
      "CPU times: user 42.6 ms, sys: 15.2 ms, total: 57.7 ms\n",
      "Wall time: 1.16 s\n"
     ]
    }
   ],
   "source": [
    "%%time\n",
    "def fedresurs2():\n",
    "    with requests.Session() as s:\n",
    "        s.headers = {\n",
    "            \"accept\": \"text/html,application/xhtml+xml,application/xml;q=0.9,image/avif,image/webp,image/apng,*/*;q=0.8,application/signed-exchange;v=b3;q=0.9\",\n",
    "            \"accept-language\": \"ru\",\n",
    "            \"cache-control\": \"no-cache\",\n",
    "            \"pragma\": \"no-cache\",\n",
    "            \"sec-fetch-dest\": \"document\",\n",
    "            \"sec-fetch-mode\": \"navigate\",\n",
    "            \"sec-fetch-site\": \"same-origin\",\n",
    "            \"sec-fetch-user\": \"?1\",\n",
    "            \"upgrade-insecure-requests\": \"1\",\n",
    "            \"user-agent\": \"Mozilla/5.0 (X11; Linux x86_64) AppleWebKit/537.36 (KHTML, like Gecko) Chrome/86.0.4240.111 Safari/537.36\",\n",
    "        }\n",
    "        r = s.get(\"https://fedresurs.ru/\")\n",
    "        s.cookies = r.history[0].cookies\n",
    "        s.headers[\"referer\"] = f\"https://fedresurs.ru/search/encumbrances?searchString=04641027&group=All&additionalSearchFnp=true\"\n",
    "        resp = s.get('https://fedresurs.ru/backend/encumbrances?startIndex=0&pageSize=15&additionalSearchFnp=true&searchString=04641027&group=null&publishDateStart=null&publishDateEnd=null')\n",
    "        print(resp.json())\n",
    "\n",
    "fedresurs2()"
   ]
  },
  {
   "cell_type": "code",
   "execution_count": null,
   "metadata": {},
   "outputs": [],
   "source": []
  }
 ],
 "metadata": {
  "kernelspec": {
   "display_name": "Python 3",
   "language": "python",
   "name": "python3"
  },
  "language_info": {
   "codemirror_mode": {
    "name": "ipython",
    "version": 3
   },
   "file_extension": ".py",
   "mimetype": "text/x-python",
   "name": "python",
   "nbconvert_exporter": "python",
   "pygments_lexer": "ipython3",
   "version": "3.6.9"
  }
 },
 "nbformat": 4,
 "nbformat_minor": 2
}
